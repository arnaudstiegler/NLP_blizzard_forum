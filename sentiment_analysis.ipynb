{
 "cells": [
  {
   "cell_type": "code",
   "execution_count": 1,
   "metadata": {},
   "outputs": [],
   "source": [
    "# Imports the Google Cloud client library\n",
    "from google.cloud import language\n",
    "from google.cloud.language import enums\n",
    "from google.cloud.language import types\n",
    "\n",
    "# Instantiates a client\n",
    "client = language.LanguageServiceClient()\n"
   ]
  },
  {
   "cell_type": "code",
   "execution_count": 2,
   "metadata": {},
   "outputs": [
    {
     "name": "stderr",
     "output_type": "stream",
     "text": [
      "ERROR:root:Internal Python error in the inspect module.\n",
      "Below is the traceback from this internal error.\n",
      "\n"
     ]
    },
    {
     "name": "stdout",
     "output_type": "stream",
     "text": [
      "Traceback (most recent call last):\n",
      "  File \"/Users/arnaudstiegler/miniconda3/envs/forum_scraping/lib/python3.6/site-packages/IPython/core/interactiveshell.py\", line 3326, in run_code\n",
      "    exec(code_obj, self.user_global_ns, self.user_ns)\n",
      "  File \"<ipython-input-2-8708d2901eb1>\", line 14, in <module>\n",
      "    entities = client.analyze_entity_sentiment(document).entities\n",
      "  File \"/Users/arnaudstiegler/miniconda3/envs/forum_scraping/lib/python3.6/site-packages/google/cloud/language_v1/gapic/language_service_client.py\", line 378, in analyze_entity_sentiment\n",
      "    request, retry=retry, timeout=timeout, metadata=metadata\n",
      "  File \"/Users/arnaudstiegler/miniconda3/envs/forum_scraping/lib/python3.6/site-packages/google/api_core/gapic_v1/method.py\", line 143, in __call__\n",
      "    return wrapped_func(*args, **kwargs)\n",
      "  File \"/Users/arnaudstiegler/miniconda3/envs/forum_scraping/lib/python3.6/site-packages/google/api_core/retry.py\", line 273, in retry_wrapped_func\n",
      "    on_error=on_error,\n",
      "  File \"/Users/arnaudstiegler/miniconda3/envs/forum_scraping/lib/python3.6/site-packages/google/api_core/retry.py\", line 182, in retry_target\n",
      "    return target()\n",
      "  File \"/Users/arnaudstiegler/miniconda3/envs/forum_scraping/lib/python3.6/site-packages/google/api_core/timeout.py\", line 214, in func_with_timeout\n",
      "    return func(*args, **kwargs)\n",
      "  File \"/Users/arnaudstiegler/miniconda3/envs/forum_scraping/lib/python3.6/site-packages/google/api_core/grpc_helpers.py\", line 57, in error_remapped_callable\n",
      "    return callable_(*args, **kwargs)\n",
      "  File \"/Users/arnaudstiegler/miniconda3/envs/forum_scraping/lib/python3.6/site-packages/grpc/_channel.py\", line 564, in __call__\n",
      "    wait_for_ready, compression)\n",
      "  File \"/Users/arnaudstiegler/miniconda3/envs/forum_scraping/lib/python3.6/site-packages/grpc/_channel.py\", line 552, in _blocking\n",
      "    event = call.next_event()\n",
      "  File \"src/python/grpcio/grpc/_cython/_cygrpc/channel.pyx.pxi\", line 310, in grpc._cython.cygrpc.SegregatedCall.next_event\n",
      "  File \"src/python/grpcio/grpc/_cython/_cygrpc/channel.pyx.pxi\", line 150, in grpc._cython.cygrpc._next_call_event\n",
      "  File \"src/python/grpcio/grpc/_cython/_cygrpc/completion_queue.pyx.pxi\", line 67, in grpc._cython.cygrpc._latent_event\n",
      "  File \"src/python/grpcio/grpc/_cython/_cygrpc/completion_queue.pyx.pxi\", line 46, in grpc._cython.cygrpc._next\n",
      "KeyboardInterrupt\n",
      "\n",
      "During handling of the above exception, another exception occurred:\n",
      "\n",
      "Traceback (most recent call last):\n",
      "  File \"/Users/arnaudstiegler/miniconda3/envs/forum_scraping/lib/python3.6/site-packages/IPython/core/interactiveshell.py\", line 2040, in showtraceback\n",
      "    stb = value._render_traceback_()\n",
      "AttributeError: 'KeyboardInterrupt' object has no attribute '_render_traceback_'\n",
      "\n",
      "During handling of the above exception, another exception occurred:\n",
      "\n",
      "Traceback (most recent call last):\n",
      "  File \"/Users/arnaudstiegler/miniconda3/envs/forum_scraping/lib/python3.6/site-packages/IPython/core/ultratb.py\", line 1101, in get_records\n",
      "    return _fixed_getinnerframes(etb, number_of_lines_of_context, tb_offset)\n",
      "  File \"/Users/arnaudstiegler/miniconda3/envs/forum_scraping/lib/python3.6/site-packages/IPython/core/ultratb.py\", line 319, in wrapped\n",
      "    return f(*args, **kwargs)\n",
      "  File \"/Users/arnaudstiegler/miniconda3/envs/forum_scraping/lib/python3.6/site-packages/IPython/core/ultratb.py\", line 353, in _fixed_getinnerframes\n",
      "    records = fix_frame_records_filenames(inspect.getinnerframes(etb, context))\n",
      "  File \"/Users/arnaudstiegler/miniconda3/envs/forum_scraping/lib/python3.6/inspect.py\", line 1488, in getinnerframes\n",
      "    frameinfo = (tb.tb_frame,) + getframeinfo(tb, context)\n",
      "  File \"/Users/arnaudstiegler/miniconda3/envs/forum_scraping/lib/python3.6/inspect.py\", line 1446, in getframeinfo\n",
      "    filename = getsourcefile(frame) or getfile(frame)\n",
      "  File \"/Users/arnaudstiegler/miniconda3/envs/forum_scraping/lib/python3.6/inspect.py\", line 696, in getsourcefile\n",
      "    if getattr(getmodule(object, filename), '__loader__', None) is not None:\n",
      "  File \"/Users/arnaudstiegler/miniconda3/envs/forum_scraping/lib/python3.6/inspect.py\", line 742, in getmodule\n",
      "    os.path.realpath(f)] = module.__name__\n",
      "KeyboardInterrupt\n"
     ]
    },
    {
     "ename": "KeyboardInterrupt",
     "evalue": "",
     "output_type": "error",
     "traceback": [
      "\u001b[0;31m---------------------------------------------------------------------------\u001b[0m"
     ]
    }
   ],
   "source": [
    "import pandas as pd\n",
    "\n",
    "df = pd.read_json('data/1000_threads.json')\n",
    "\n",
    "result = []\n",
    "counter = 0\n",
    "for index, row in df.iloc[:,:].iterrows():\n",
    "    texts = [row['init_post']] + row['comments']\n",
    "    for text in texts:\n",
    "        document = types.Document(\n",
    "                    content=text,\n",
    "                    type=enums.Document.Type.PLAIN_TEXT,\n",
    "                    language='en')\n",
    "        entities = client.analyze_entity_sentiment(document).entities\n",
    "        result.append(entities)\n",
    "        "
   ]
  },
  {
   "cell_type": "code",
   "execution_count": null,
   "metadata": {},
   "outputs": [],
   "source": [
    "processed_docword_sentiment = {}\n",
    "for i in range(len(result)):\n",
    "    for j in range(len(result[i])):\n",
    "        if(result[i][j].name not in processed_docword_sentiment.keys()):\n",
    "            processed_docword_sentiment[result[i][j].name] = {'score':[result[i][j].sentiment.score],\n",
    "                                                             'magnitude':[result[i][j].sentiment.magnitude]}\n",
    "        else:\n",
    "            processed_docword_sentiment[result[i][j].name]['score'].append(result[i][j].sentiment.score)\n",
    "            processed_docword_sentiment[result[i][j].name]['magnitude'].append(result[i][j].sentiment.magnitude)"
   ]
  },
  {
   "cell_type": "code",
   "execution_count": null,
   "metadata": {},
   "outputs": [],
   "source": [
    "import json\n",
    "\n",
    "with open('data/docword_sentiment.json', 'w') as outfile:\n",
    "    json.dump(processed_docword_sentiment, outfile, indent=4, ensure_ascii=False)"
   ]
  },
  {
   "cell_type": "code",
   "execution_count": 15,
   "metadata": {},
   "outputs": [
    {
     "name": "stdout",
     "output_type": "stream",
     "text": [
      "====================\n",
      "name            : Obama\n",
      "type            : PERSON\n",
      "metadata        : {'wikipedia_url': 'https://en.wikipedia.org/wiki/Barack_Obama', 'mid': '/m/02mjmr'}\n",
      "salience        : 0.8497163653373718\n",
      "wikipedia_url   : https://en.wikipedia.org/wiki/Barack_Obama\n",
      "====================\n",
      "name            : Trump\n",
      "type            : PERSON\n",
      "metadata        : {'wikipedia_url': 'https://en.wikipedia.org/wiki/Donald_Trump', 'mid': '/m/0cqt90'}\n",
      "salience        : 0.09013491868972778\n",
      "wikipedia_url   : https://en.wikipedia.org/wiki/Donald_Trump\n",
      "====================\n",
      "name            : states\n",
      "type            : LOCATION\n",
      "metadata        : {}\n",
      "salience        : 0.060148686170578\n",
      "wikipedia_url   : -\n"
     ]
    }
   ],
   "source": [
    "# Detects entities in the document. You can also analyze HTML with:\n",
    "#   document.type == enums.Document.Type.HTML\n",
    "entities = client.analyze_entities(document).entities\n",
    "\n",
    "# entity types from enums.Entity.Type\n",
    "entity_type = ('UNKNOWN', 'PERSON', 'LOCATION', 'ORGANIZATION',\n",
    "               'EVENT', 'WORK_OF_ART', 'CONSUMER_GOOD', 'OTHER')\n",
    "\n",
    "for entity in entities:\n",
    "    print('=' * 20)\n",
    "    print(u'{:<16}: {}'.format('name', entity.name))\n",
    "    print(u'{:<16}: {}'.format('type', entity_type[entity.type]))\n",
    "    print(u'{:<16}: {}'.format('metadata', entity.metadata))\n",
    "    print(u'{:<16}: {}'.format('salience', entity.salience))\n",
    "    print(u'{:<16}: {}'.format('wikipedia_url',\n",
    "          entity.metadata.get('wikipedia_url', '-')))"
   ]
  },
  {
   "cell_type": "code",
   "execution_count": null,
   "metadata": {},
   "outputs": [],
   "source": []
  }
 ],
 "metadata": {
  "kernelspec": {
   "display_name": "Python [conda env:forum_scraping]",
   "language": "python",
   "name": "conda-env-forum_scraping-py"
  },
  "language_info": {
   "codemirror_mode": {
    "name": "ipython",
    "version": 3
   },
   "file_extension": ".py",
   "mimetype": "text/x-python",
   "name": "python",
   "nbconvert_exporter": "python",
   "pygments_lexer": "ipython3",
   "version": "3.6.7"
  }
 },
 "nbformat": 4,
 "nbformat_minor": 2
}

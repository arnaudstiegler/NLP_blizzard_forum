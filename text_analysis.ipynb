{
 "cells": [
  {
   "cell_type": "code",
   "execution_count": 1,
   "metadata": {},
   "outputs": [
    {
     "data": {
      "text/html": [
       "<div>\n",
       "<style scoped>\n",
       "    .dataframe tbody tr th:only-of-type {\n",
       "        vertical-align: middle;\n",
       "    }\n",
       "\n",
       "    .dataframe tbody tr th {\n",
       "        vertical-align: top;\n",
       "    }\n",
       "\n",
       "    .dataframe thead th {\n",
       "        text-align: right;\n",
       "    }\n",
       "</style>\n",
       "<table border=\"1\" class=\"dataframe\">\n",
       "  <thead>\n",
       "    <tr style=\"text-align: right;\">\n",
       "      <th></th>\n",
       "      <th>url</th>\n",
       "      <th>thread_name</th>\n",
       "      <th>init_post</th>\n",
       "      <th>comments</th>\n",
       "    </tr>\n",
       "  </thead>\n",
       "  <tbody>\n",
       "    <tr>\n",
       "      <td>0</td>\n",
       "      <td>https://us.forums.blizzard.com/en/wow/t/player...</td>\n",
       "      <td>Players vs Developers</td>\n",
       "      <td>It hit me earlier today when I was wondering w...</td>\n",
       "      <td>[…pretty much.I don’t raid or dungeon so I hav...</td>\n",
       "    </tr>\n",
       "    <tr>\n",
       "      <td>1</td>\n",
       "      <td>https://us.forums.blizzard.com/en/wow/t/no-mot...</td>\n",
       "      <td>No Motivation for HoA Skills</td>\n",
       "      <td>The statement “it’s Blizzard game they can do ...</td>\n",
       "      <td>[More like the the devs hear us but don’t care...</td>\n",
       "    </tr>\n",
       "    <tr>\n",
       "      <td>2</td>\n",
       "      <td>https://us.forums.blizzard.com/en/wow/t/what-w...</td>\n",
       "      <td>What Would be the Most Jump-the-Shark Way to E...</td>\n",
       "      <td>Basically title.Allow us to use our whistle an...</td>\n",
       "      <td>[OMG YES!  Though Blizz won’t do it because th...</td>\n",
       "    </tr>\n",
       "    <tr>\n",
       "      <td>3</td>\n",
       "      <td>https://us.forums.blizzard.com/en/wow/t/sugges...</td>\n",
       "      <td>Suggestion: Allow us to upgrade our Flight Mas...</td>\n",
       "      <td>Here is my submission.After the defeat of Azsh...</td>\n",
       "      <td>[We find out Sylvanas is pregnant with Anduin’...</td>\n",
       "    </tr>\n",
       "    <tr>\n",
       "      <td>4</td>\n",
       "      <td>https://us.forums.blizzard.com/en/wow/t/6-mont...</td>\n",
       "      <td>6 Months Was Long Enough</td>\n",
       "      <td>BFA released 7 months ago. I’ve experienced th...</td>\n",
       "      <td>[I agree on the time frame. I as well feel the...</td>\n",
       "    </tr>\n",
       "  </tbody>\n",
       "</table>\n",
       "</div>"
      ],
      "text/plain": [
       "                                                 url  \\\n",
       "0  https://us.forums.blizzard.com/en/wow/t/player...   \n",
       "1  https://us.forums.blizzard.com/en/wow/t/no-mot...   \n",
       "2  https://us.forums.blizzard.com/en/wow/t/what-w...   \n",
       "3  https://us.forums.blizzard.com/en/wow/t/sugges...   \n",
       "4  https://us.forums.blizzard.com/en/wow/t/6-mont...   \n",
       "\n",
       "                                         thread_name  \\\n",
       "0                              Players vs Developers   \n",
       "1                       No Motivation for HoA Skills   \n",
       "2  What Would be the Most Jump-the-Shark Way to E...   \n",
       "3  Suggestion: Allow us to upgrade our Flight Mas...   \n",
       "4                           6 Months Was Long Enough   \n",
       "\n",
       "                                           init_post  \\\n",
       "0  It hit me earlier today when I was wondering w...   \n",
       "1  The statement “it’s Blizzard game they can do ...   \n",
       "2  Basically title.Allow us to use our whistle an...   \n",
       "3  Here is my submission.After the defeat of Azsh...   \n",
       "4  BFA released 7 months ago. I’ve experienced th...   \n",
       "\n",
       "                                            comments  \n",
       "0  […pretty much.I don’t raid or dungeon so I hav...  \n",
       "1  [More like the the devs hear us but don’t care...  \n",
       "2  [OMG YES!  Though Blizz won’t do it because th...  \n",
       "3  [We find out Sylvanas is pregnant with Anduin’...  \n",
       "4  [I agree on the time frame. I as well feel the...  "
      ]
     },
     "execution_count": 1,
     "metadata": {},
     "output_type": "execute_result"
    }
   ],
   "source": [
    "import pandas as pd\n",
    "\n",
    "df = pd.read_json('data/5000_threads.json')\n",
    "df.head()"
   ]
  },
  {
   "cell_type": "code",
   "execution_count": 2,
   "metadata": {},
   "outputs": [],
   "source": [
    "full_text = []\n",
    "\n",
    "for index, row in df.iterrows():\n",
    "    full_text.append(row['init_post'])\n",
    "    full_text += row['comments']"
   ]
  },
  {
   "cell_type": "code",
   "execution_count": 31,
   "metadata": {},
   "outputs": [],
   "source": [
    "import nltk\n",
    "from nltk.corpus import stopwords\n",
    "stop_words = set(stopwords.words('english'))\n",
    "\n",
    "from nltk.tokenize import TweetTokenizer\n",
    "tokenizer = TweetTokenizer()\n",
    "\n",
    "\n",
    "text_length = []\n",
    "token_list = []\n",
    "for comment in full_text:\n",
    "    tokens = [token.lower() for token in tokenizer.tokenize(comment) if token not in stop_words and token.isalpha()]\n",
    "    text_length.append(len(tokenizer.tokenize(comment)))\n",
    "    token_list+= tokens"
   ]
  },
  {
   "cell_type": "code",
   "execution_count": 32,
   "metadata": {},
   "outputs": [],
   "source": [
    "from nltk.probability import FreqDist\n",
    "\n",
    "fdist = FreqDist(token_list)"
   ]
  },
  {
   "cell_type": "code",
   "execution_count": 35,
   "metadata": {},
   "outputs": [
    {
     "data": {
      "text/plain": [
       "[('i', 296095),\n",
       " ('like', 59501),\n",
       " ('people', 45441),\n",
       " ('would', 43740),\n",
       " ('get', 41649),\n",
       " ('one', 36382),\n",
       " ('game', 35788),\n",
       " ('it', 32500),\n",
       " ('time', 30057),\n",
       " ('the', 29870),\n",
       " ('even', 26862),\n",
       " ('think', 26544),\n",
       " ('horde', 25646),\n",
       " ('you', 24215),\n",
       " ('want', 23458),\n",
       " ('alliance', 22635),\n",
       " ('really', 22511),\n",
       " ('make', 21877),\n",
       " ('know', 20081),\n",
       " ('see', 19838)]"
      ]
     },
     "execution_count": 35,
     "metadata": {},
     "output_type": "execute_result"
    }
   ],
   "source": [
    "fdist.most_common(20)"
   ]
  },
  {
   "cell_type": "code",
   "execution_count": 4,
   "metadata": {},
   "outputs": [],
   "source": [
    "import numpy as np\n",
    "\n",
    "text_length = np.array(text_length)"
   ]
  },
  {
   "cell_type": "code",
   "execution_count": 12,
   "metadata": {},
   "outputs": [
    {
     "name": "stdout",
     "output_type": "stream",
     "text": [
      "The average number of tokens for a comment is 46.350\n",
      "The std for the number of tokens for a comment is 64.145\n"
     ]
    }
   ],
   "source": [
    "print(\"The average number of tokens for a comment is {:.3f}\".format(text_length.mean()))\n",
    "print(\"The std for the number of tokens for a comment is {:.3f}\".format(text_length.std()))"
   ]
  },
  {
   "cell_type": "code",
   "execution_count": 18,
   "metadata": {},
   "outputs": [
    {
     "data": {
      "image/png": "[encoded data removed]",
      "text/plain": [
       "<Figure size 720x432 with 1 Axes>"
      ]
     },
     "metadata": {
      "needs_background": "light"
     },
     "output_type": "display_data"
    }
   ],
   "source": [
    "import matplotlib.pyplot as plt\n",
    "\n",
    "plt.figure(figsize=(10,6))\n",
    "plt.hist(text_length, bins=50, range=[0,500])\n",
    "plt.show()"
   ]
  }
 ],
 "metadata": {
  "kernelspec": {
   "display_name": "Python [conda env:forum_scraping] *",
   "language": "python",
   "name": "conda-env-forum_scraping-py"
  },
  "language_info": {
   "codemirror_mode": {
    "name": "ipython",
    "version": 3
   },
   "file_extension": ".py",
   "mimetype": "text/x-python",
   "name": "python",
   "nbconvert_exporter": "python",
   "pygments_lexer": "ipython3",
   "version": "3.6.7"
  }
 },
 "nbformat": 4,
 "nbformat_minor": 2
}
